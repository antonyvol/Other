{
 "cells": [
  {
   "cell_type": "markdown",
   "metadata": {},
   "source": [
    "## Task 2:\n",
    "You are playing a heated game of Dungeons & Dragons and the dungeon master's (DM) main character always attacks you with two weapons (one die each). \n",
    "You would like to know what type of weapons they are and could guess, if you knew the individual damage rolls, but the DM only gives you the sum of the rolled values. You know it has to be either a d6, d8, d10, or d12 (dX = X-sided die) for either weapon and the DM always rolls two at the same time and gives you the sum. Your hypothesis would be that it is a d6 and a d10. What is the evidence for this hypothesis if the last 5 throws gave you the summed numbers [10, 12, 15, 4, 7]"
   ]
  },
  {
   "cell_type": "code",
   "execution_count": 1,
   "metadata": {},
   "outputs": [],
   "source": [
    "# prepare the likelihoods to be sampled via Monte-Carlo\n",
    "\n",
    "likelihood_mc = {'6+6'  : {}, \n",
    "                 '6+8'  : {}, \n",
    "                 '6+10' : {}, \n",
    "                 '6+12' : {}, \n",
    "                 '8+8'  : {}, \n",
    "                 '8+10' : {}, \n",
    "                 '8+12' : {}, \n",
    "                 '10+10': {}, \n",
    "                 '10+12': {}, \n",
    "                 '12+12': {}}\n",
    "\n",
    "for key in likelihood_mc.keys():\n",
    "    tmp = {}\n",
    "    for i in range(25):\n",
    "        tmp[i] = 0\n",
    "    likelihood_mc[key] = tmp"
   ]
  },
  {
   "cell_type": "code",
   "execution_count": 2,
   "metadata": {},
   "outputs": [],
   "source": [
    "# do Monte-Carlo sampling\n",
    "\n",
    "import re\n",
    "import random\n",
    "\n",
    "pattern = '[0-9]+'\n",
    "N = 5000\n",
    "\n",
    "for lkey in likelihood_mc.keys():\n",
    "    dice = list(map(lambda x : int(x), re.findall(pattern, lkey)))\n",
    "    freqs = likelihood_mc[lkey]\n",
    "    for _ in range(N):\n",
    "        num = random.randint(1, dice[0]) + random.randint(1, dice[1])\n",
    "        freqs[num] = freqs[num] + 1\n",
    "    for fkey in freqs.keys():\n",
    "        freqs[fkey] = freqs[fkey] / N\n",
    "    likelihood_mc[lkey] = freqs"
   ]
  },
  {
   "cell_type": "code",
   "execution_count": 9,
   "metadata": {},
   "outputs": [],
   "source": [
    "# incoming data = [10, 12, 15, 4, 7]\n",
    "# possible combinations: 6+6, 6+8, 6+10, 6+12, 8+8, 8+10, 8+12, 10+10, 10+12, 12+12\n",
    "\n",
    "keys = list(likelihood_mc.keys())\n",
    "\n",
    "# get normalising constant for current datapoint\n",
    "def nc(datapoint, prior):\n",
    "    res = 0\n",
    "    for i in range(len(keys)):\n",
    "        res += prior[i] * likelihood_mc[keys[i]][datapoint]\n",
    "    return res\n",
    "\n",
    "\n",
    "# obtain posterior according to formula\n",
    "def posterior(prior, datapoint):\n",
    "    res = []\n",
    "    for i in range(len(keys)):\n",
    "        res.append((prior[i] * likelihood_mc[keys[i]][datapoint]) / nc(datapoint, prior))\n",
    "    return res"
   ]
  },
  {
   "cell_type": "code",
   "execution_count": 10,
   "metadata": {},
   "outputs": [],
   "source": [
    "data = [10, 12, 15, 4, 7]\n",
    "\n",
    "prior = [1/10 for _ in range(10)] # uniform prior\n",
    "\n",
    "for datapoint in data:\n",
    "    p = posterior(prior, datapoint)\n",
    "    prior = p"
   ]
  },
  {
   "cell_type": "code",
   "execution_count": 11,
   "metadata": {},
   "outputs": [
    {
     "data": {
      "image/png": "[encoded data removed]",
      "text/plain": [
       "<Figure size 1080x504 with 1 Axes>"
      ]
     },
     "metadata": {
      "needs_background": "light"
     },
     "output_type": "display_data"
    }
   ],
   "source": [
    "import matplotlib.pyplot as plt\n",
    "\n",
    "x = ['6+6', '6+8', '6+10', '6+12', '8+8', '8+10', '8+12', '10+10', '10+12', '12+12']\n",
    "\n",
    "plt.figure(figsize=(15,7))\n",
    "\n",
    "ax = plt.subplot()\n",
    "ax.bar(x, prior, width=0.4, color='b', align='center')\n",
    "\n",
    "plt.show()"
   ]
  },
  {
   "cell_type": "code",
   "execution_count": null,
   "metadata": {},
   "outputs": [],
   "source": []
  }
 ],
 "metadata": {
  "kernelspec": {
   "display_name": "Python 3",
   "language": "python",
   "name": "python3"
  },
  "language_info": {
   "codemirror_mode": {
    "name": "ipython",
    "version": 3
   },
   "file_extension": ".py",
   "mimetype": "text/x-python",
   "name": "python",
   "nbconvert_exporter": "python",
   "pygments_lexer": "ipython3",
   "version": "3.7.0"
  }
 },
 "nbformat": 4,
 "nbformat_minor": 2
}
