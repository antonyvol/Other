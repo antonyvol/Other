{
 "cells": [
  {
   "cell_type": "markdown",
   "metadata": {},
   "source": [
    "## Task 2:\n",
    "You are playing a heated game of Dungeons & Dragons and the dungeon master's (DM) main character always attacks you with two weapons (one die each). \n",
    "You would like to know what type of weapons they are and could guess, if you knew the individual damage rolls, but the DM only gives you the sum of the rolled values. You know it has to be either a d6, d8, d10, or d12 (dX = X-sided die) for either weapon and the DM always rolls two at the same time and gives you the sum. Your hypothesis would be that it is a d6 and a d10. What is the evidence for this hypothesis if the last 5 throws gave you the summed numbers [10, 12, 15, 4, 7]"
   ]
  },
  {
   "cell_type": "code",
   "execution_count": 48,
   "metadata": {},
   "outputs": [],
   "source": [
    "# likelihood --> 0 if more, 1/sum if less or equal\n",
    "# incoming data = [10, 12, 15, 4, 7]\n",
    "# possible combinations: 6+6, 6+8, 6+10, 6+12, 8+8, 8+10, 8+12, 10+10, 10+12, 12+12 --> 10 combinations\n",
    "\n",
    "\n",
    "sums = [12, 14, 16, 18, 16, 18, 20, 20, 22, 24]\n",
    "\n",
    "\n",
    "# define likelihood\n",
    "def likelihood(datapoint, sum_value):\n",
    "    if datapoint > sum_value:\n",
    "        return 0\n",
    "    return 1/sum_value\n",
    "        \n",
    "\n",
    "# get normalising constant for current datapoint\n",
    "def nc(datapoint, prior):\n",
    "    res = 0\n",
    "    for i in range(len(sums)):\n",
    "        res += prior[i] * likelihood(datapoint, sums[i])\n",
    "    return res\n",
    "\n",
    "\n",
    "# obtain posterior according to formula\n",
    "def posterior(prior, datapoint):\n",
    "    res = []\n",
    "    for i in range(len(sums)):\n",
    "        res.append((prior[i] * likelihood(datapoint, sums[i])) / nc(datapoint, prior))\n",
    "    return res"
   ]
  },
  {
   "cell_type": "code",
   "execution_count": 49,
   "metadata": {},
   "outputs": [],
   "source": [
    "data = [10, 12, 15, 4, 7]\n",
    "\n",
    "prior = [1/10 for _ in range(10)] # uniform prior\n",
    "\n",
    "for datapoint in data:\n",
    "    p = posterior(prior, datapoint)\n",
    "    prior = p"
   ]
  },
  {
   "cell_type": "code",
   "execution_count": 53,
   "metadata": {},
   "outputs": [
    {
     "data": {
      "image/png": "[encoded data removed]",
      "text/plain": [
       "<Figure size 1080x504 with 1 Axes>"
      ]
     },
     "metadata": {
      "needs_background": "light"
     },
     "output_type": "display_data"
    }
   ],
   "source": [
    "import matplotlib.pyplot as plt\n",
    "\n",
    "x = ['6+6', '6+8', '6+10', '6+12', '8+8', '8+10', '8+12', '10+10', '10+12', '12+12']\n",
    "\n",
    "plt.figure(figsize=(15,7))\n",
    "\n",
    "ax = plt.subplot()\n",
    "ax.bar(x, prior, width=0.4, color='b', align='center')\n",
    "\n",
    "plt.show()"
   ]
  },
  {
   "cell_type": "markdown",
   "metadata": {},
   "source": [
    "Since we know only the sum of two dices, and dices 6+10 and 8+8 produce the same sum, evidence for them is the same and equals 0.24388051020782645"
   ]
  }
 ],
 "metadata": {
  "kernelspec": {
   "display_name": "Python 3",
   "language": "python",
   "name": "python3"
  },
  "language_info": {
   "codemirror_mode": {
    "name": "ipython",
    "version": 3
   },
   "file_extension": ".py",
   "mimetype": "text/x-python",
   "name": "python",
   "nbconvert_exporter": "python",
   "pygments_lexer": "ipython3",
   "version": "3.7.0"
  }
 },
 "nbformat": 4,
 "nbformat_minor": 2
}
