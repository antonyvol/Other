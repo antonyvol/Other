{
 "cells": [
  {
   "cell_type": "markdown",
   "metadata": {},
   "source": [
    "Experiment consists of 3 doors, behind random one tester puts the money and player selects one of the doors. In this paradox it is claimed if player selection is changed when one of the not selected doors (but without money!) is opened, the probability to win (i.e. pick the door with money) is 2/3. Let's check it down below."
   ]
  },
  {
   "cell_type": "code",
   "execution_count": 23,
   "metadata": {
    "scrolled": true
   },
   "outputs": [],
   "source": [
    "import random \n",
    "\n",
    "n = 10000\n",
    "wins_when_changed = 0\n",
    "\n",
    "for _ in range(n):\n",
    "    # tester puts money behind one of the doors\n",
    "    door_with_money = random.randint(0, 2)\n",
    "    \n",
    "    # player selects random door\n",
    "    player_selection = random.randint(0, 2)\n",
    "    \n",
    "    # tester opens the door not selected by player and not containing money\n",
    "    # if player selected door with money, door chosen randomly\n",
    "    doors_to_open = [x for x in range(3) if x != player_selection and x != door_with_money]\n",
    "    if len(doors_to_open) == 1:\n",
    "        tester_selection = doors_to_open[0]\n",
    "    else:\n",
    "        tester_selection = doors_to_open[random.randint(0, 1)]\n",
    "        \n",
    "    # change the player's initial selection\n",
    "    player_new_selection = [x for x in range(3) if x != tester_selection and x != player_selection][0]\n",
    "    \n",
    "    # increase wins if matched\n",
    "    if player_new_selection == door_with_money:\n",
    "        wins_when_changed += 1"
   ]
  },
  {
   "cell_type": "code",
   "execution_count": 24,
   "metadata": {},
   "outputs": [
    {
     "data": {
      "text/plain": [
       "0.6574"
      ]
     },
     "execution_count": 24,
     "metadata": {},
     "output_type": "execute_result"
    }
   ],
   "source": [
    "wins_when_changed / n"
   ]
  },
  {
   "cell_type": "markdown",
   "metadata": {},
   "source": [
    "Results are distributed around 0.66 == 2/3, therefore, changing doors indeed increases your chanses to success"
   ]
  },
  {
   "cell_type": "code",
   "execution_count": null,
   "metadata": {},
   "outputs": [],
   "source": []
  }
 ],
 "metadata": {
  "kernelspec": {
   "display_name": "Python 3",
   "language": "python",
   "name": "python3"
  },
  "language_info": {
   "codemirror_mode": {
    "name": "ipython",
    "version": 3
   },
   "file_extension": ".py",
   "mimetype": "text/x-python",
   "name": "python",
   "nbconvert_exporter": "python",
   "pygments_lexer": "ipython3",
   "version": "3.7.0"
  }
 },
 "nbformat": 4,
 "nbformat_minor": 2
}
